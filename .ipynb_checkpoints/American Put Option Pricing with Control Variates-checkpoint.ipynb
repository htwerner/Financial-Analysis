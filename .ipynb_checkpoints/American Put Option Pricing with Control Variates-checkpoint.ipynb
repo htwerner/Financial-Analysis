{
 "cells": [
  {
   "cell_type": "markdown",
   "metadata": {},
   "source": [
    "# American Put Option Pricing with Control Variates"
   ]
  },
  {
   "cell_type": "markdown",
   "metadata": {},
   "source": [
    "## Package Installation"
   ]
  },
  {
   "cell_type": "markdown",
   "metadata": {},
   "source": [
    "Before our analysis, we need to install pyEX for fetching stock prices."
   ]
  },
  {
   "cell_type": "code",
   "execution_count": 1,
   "metadata": {},
   "outputs": [],
   "source": [
    "#! pip3 install pyEX"
   ]
  },
  {
   "cell_type": "markdown",
   "metadata": {},
   "source": [
    "## Package Import"
   ]
  },
  {
   "cell_type": "markdown",
   "metadata": {},
   "source": [
    "We'll need numpy, pyEX, and norm from scipy.stats in our code."
   ]
  },
  {
   "cell_type": "code",
   "execution_count": 2,
   "metadata": {},
   "outputs": [],
   "source": [
    "import numpy\n",
    "import pyEX\n",
    "from scipy.stats import norm"
   ]
  },
  {
   "cell_type": "markdown",
   "metadata": {},
   "source": [
    "## Fetch Stock Prices"
   ]
  },
  {
   "cell_type": "markdown",
   "metadata": {},
   "source": [
    "We'll fetch stock prices uses pyEX."
   ]
  },
  {
   "cell_type": "markdown",
   "metadata": {},
   "source": [
    "### Code"
   ]
  },
  {
   "cell_type": "code",
   "execution_count": 3,
   "metadata": {},
   "outputs": [],
   "source": [
    "def getPrices(ticker):\n",
    "    apiKey = \"pk_98c75d71f47140c99b2ca3f07e506863\"\n",
    "    c = pyEX.Client(apiKey)\n",
    "    stockData = c.chartDF(ticker,'1y')\n",
    "    priceData = stockData['close'].values\n",
    "    return priceData"
   ]
  },
  {
   "cell_type": "markdown",
   "metadata": {},
   "source": [
    "## Stock Volatility"
   ]
  },
  {
   "cell_type": "markdown",
   "metadata": {},
   "source": [
    "Before we can model our stock, we need a function to calibrate the stock volatility under the geometric Brownian motion model. We'll call this function stockVol() with input histoPrice as an array of 1-year historical prices. Our function will return a number that is the historical volatility of the stock."
   ]
  },
  {
   "cell_type": "markdown",
   "metadata": {},
   "source": [
    "### Setup"
   ]
  },
  {
   "cell_type": "markdown",
   "metadata": {},
   "source": [
    "We are given $S_{0}, S_{h}, S_{2h}, \\dots, S_{252h}$ prices for 252 trading days in a year.\n",
    "\n",
    "Assume $ S_{nh} = S_{(n-1)h}e^{\\left( r-\\frac{\\sigma^2}{2} \\right)h + \\sigma Z_n \\sqrt{h}} $, such that $ \\frac{S_{nh}}{S_{(n-1)h}} = e^{\\left( r-\\frac{\\sigma^2}{2} \\right)h + \\sigma Z_n \\sqrt{h}} $, and thus $ ln\\left( \\frac{S_{nh}}{S_{(n-1)h}} \\right) = \\left( r-\\frac{\\sigma^2}{2} \\right)h + \\sigma Z_n \\sqrt{h} $.\n",
    "\n",
    "If we let $ \\hat{S_n} = ln\\left( \\frac{S_{nh}}{S_{(n-1)h}} \\right) $, then $ \\hat{S_n} \\sim N \\left( \\left( r-\\frac{\\sigma^2}{2} \\right)h, \\sigma^{2} h \\right)$ and we have $ Var(\\hat{S}) = \\sigma^{2} h $.\n",
    "\n",
    "Thus, calculating using our sample data and calculating $\\hat{S_1}, \\hat{S_2}, \\dots, \\hat{S_{252}}$, we find $ \\sigma = \\sqrt{\\frac{Var(\\hat{S})}{h}} $.\n",
    "\n",
    "Note that we must use a stock that doesn't have a dividend, or else we have to delete and account for the stock prices on dividend dates."
   ]
  },
  {
   "cell_type": "markdown",
   "metadata": {},
   "source": [
    "### Code"
   ]
  },
  {
   "cell_type": "code",
   "execution_count": 4,
   "metadata": {},
   "outputs": [],
   "source": [
    "def StockVol(histoPrice):\n",
    "    Sn = [numpy.log(histoPrice[i+1]/histoPrice[i]) for i in range(len(histoPrice)-1)]\n",
    "    return numpy.sqrt(numpy.var(Sn,ddof=1))"
   ]
  },
  {
   "cell_type": "markdown",
   "metadata": {},
   "source": [
    "## Stock Path Simulation"
   ]
  },
  {
   "cell_type": "markdown",
   "metadata": {},
   "source": [
    "For pricing European and American options, we'll need to simulate the stock. We'll make a function StockPath to generate n stock paths with inputs n: number of stock paths, sigma: volatility of the stock, S0: current stock price; T: terminal time in yearly unit; np: number of time periods; r: interest rate."
   ]
  },
  {
   "cell_type": "markdown",
   "metadata": {},
   "source": [
    "### Setup"
   ]
  },
  {
   "cell_type": "markdown",
   "metadata": {},
   "source": [
    "Each row is one path of simulated stock path. # of rows, np, is the number of simulations.\n",
    "\n",
    "$S_t$ can be simulated with Geometric Brownian Motion such that $ S_t = S_{0}e^{\\left( r-\\frac{\\sigma^2}{2} \\right)t + \\sigma Z \\sqrt{t}}$, where $Z \\sim N(0,1)$.\n",
    "\n",
    "We use the time frame $[0,T]$ with $n$ time steps.\n",
    "\n",
    "We will calculate $S_{0}, S_{T/n}, S_{2T/n}, \\dots, S_{(n-1)T/n}, S_{T}$ such that...\n",
    "\n",
    "$S_{T/n} = S_{0}e^{\\left( r-\\frac{\\sigma^2}{2} \\right)\\frac{T}{n} + \\sigma Z \\sqrt{\\frac{T}{n}}}$\n",
    "\n",
    "$S_{2T/n} = S_{T/n}e^{\\left( r-\\frac{\\sigma^2}{2} \\right)\\frac{T}{n} + \\sigma Z \\sqrt{\\frac{T}{n}}}$\n",
    "\n",
    "and so on...\n",
    "\n",
    "Let $Y_i = e^{\\left( r-\\frac{\\sigma^2}{2} \\right)\\frac{T}{n} + \\sigma Z_i \\sqrt{\\frac{T}{n}}}$ for our simulation."
   ]
  },
  {
   "cell_type": "markdown",
   "metadata": {},
   "source": [
    "### Code"
   ]
  },
  {
   "cell_type": "code",
   "execution_count": 5,
   "metadata": {},
   "outputs": [],
   "source": [
    "def StockPath(n,sigma,S0,T,np,r):\n",
    "    path = []\n",
    "    for x in range(np):\n",
    "        step = T/n\n",
    "        Y_array = numpy.exp(((r-((sigma**2)/2))*step) + (sigma*numpy.random.normal(0,1,n)*numpy.sqrt(step)))\n",
    "        dailyPrices = [S0]\n",
    "        i = 0\n",
    "        for Y in Y_array:\n",
    "            newPrice = dailyPrices[i]*Y\n",
    "            dailyPrices.append(newPrice)\n",
    "            i += 1\n",
    "        path.append(dailyPrices)\n",
    "    return path"
   ]
  },
  {
   "cell_type": "markdown",
   "metadata": {},
   "source": [
    "## European Put Option Pricing"
   ]
  },
  {
   "cell_type": "markdown",
   "metadata": {},
   "source": [
    "To calculate the European put option price for later use with our control variate method, we'll create a function EurOptPrice() that takes the stock paths as an input to generate the European put option price through Monte Carlo method. The function will return the discounted payoff vector, fair price, and variance."
   ]
  },
  {
   "cell_type": "markdown",
   "metadata": {},
   "source": [
    "### Setup"
   ]
  },
  {
   "cell_type": "markdown",
   "metadata": {},
   "source": [
    "The premium of a European put option is $e^{-rT}\\mathbb{E}[(K-S_t)^{+}]$, or approximately $e^{-rT} \\mathbb{E}[(K-S_t)^{+}]$.\n",
    "\n",
    "We'll calculate $\\mathbb{E}[(K-S_t)^{+}]$ through simulation and averaging.\n",
    "\n",
    "The premium of a European option is then found by calculating the average of discounted returns over all paths."
   ]
  },
  {
   "cell_type": "markdown",
   "metadata": {},
   "source": [
    "### Code"
   ]
  },
  {
   "cell_type": "code",
   "execution_count": 6,
   "metadata": {},
   "outputs": [],
   "source": [
    "def EurOptPrice(stockPaths,n,r,K,T):\n",
    "    discPayoffs = []\n",
    "    for prices in stockPaths:\n",
    "        St = prices[-1]\n",
    "        payoff = numpy.exp(-r*T)*max(0,K-St)\n",
    "        discPayoffs.append(payoff)\n",
    "    fairPrice = numpy.mean(discPayoffs)\n",
    "    priceVar = numpy.var(discPayoffs,ddof=1)\n",
    "    return discPayoffs,fairPrice,priceVar"
   ]
  },
  {
   "cell_type": "markdown",
   "metadata": {},
   "source": [
    "## American Put Option Pricing"
   ]
  },
  {
   "cell_type": "markdown",
   "metadata": {},
   "source": [
    "For our American put option pricing, we'll write a function AmerOptPrice that takes the stock paths as an input to generate the American put option price, without control variates. The function will return the discounted payoff vector, fair price, and variance. In our pricing, we'll utilize a simple linear regression technique."
   ]
  },
  {
   "cell_type": "markdown",
   "metadata": {},
   "source": [
    "### Setup"
   ]
  },
  {
   "cell_type": "markdown",
   "metadata": {},
   "source": [
    "An American put option can be exercised at any time between $[0,T]$.\n",
    "\n",
    "The the \"holding value\" be $e^{-rT}\\mathbb{E}[(K-S_T)^{+}]$\n",
    "\n",
    "At each time step, we need to check if the option is worth more alive than exercised. If it's not, we'll assume it will be exercised.\n",
    "\n",
    "In the pricer, we price with the maximum between the holding value and the exercise value.\n",
    "\n",
    "Let $h = \\frac{1}{252}$.\n",
    "\n",
    "$S_{t+h} = S_{t}e^{\\left( r-\\frac{\\sigma^2}{2} \\right)h + \\sigma Z \\sqrt{h}}$\n",
    "\n",
    "There are infinitely many possibilities at each time step, so calculating the expectation is not simple.\n",
    "\n",
    "Suppose we have 1000 simulated paths.\n",
    "\n",
    "Begin with finding exercise values and holding values, working backwards...\n",
    "\n",
    "Exercise value at $T = (K-S_T)^{+}$\n",
    "\n",
    "$V_{hold}(S_{T}) = (K-S_T)^{+}$\n",
    "\n",
    "Exercise value at $T-h = (K-S_{T-h})^{+}$\n",
    "\n",
    "$V_{hold}(S_{T-h}) = e^{-rh}\\mathbb{E}\\left[(K-S_T)^{+}\\right]$\n",
    "\n",
    "* Calculate $\\mathbb{E}\\left[(K-S_T)^{+}\\right]$ using 100 simulations with the model $S_{T} = S_{T-h}e^{\\left( r-\\frac{\\sigma^2}{2} \\right)h + \\sigma Z \\sqrt{h}}$. Note that this is a single step simulation. Variance is the same $\\sigma$ used in the European put option pricing.\n",
    "\n",
    "Exercise value at $T-2h = (K-S_{T-{2h}})^{+}$\n",
    "\n",
    "$V_{hold}(S_{T-2h}) =$ ?\n",
    "\n",
    "* Now, we need the function $V_{hold}(S_{T-2h})$ to calculate the holding value at $t=T-2h$, which we will approximate using regression.\n",
    "\n",
    "* Since we already have the points $S^{1}_{T-h}, S^{2}_{T-h}, ..., S^{1000}_{T-h}$ and $V^{1}_{T-h}, V^{2}_{T-h}, ..., V^{1000}_{T-h}$, we can build a regression or machine learning model to build the function $V^{hold}(S_{T-h})$.\n",
    "\n",
    "* This allows us to calculate the holding values for all price simulations that we run at $t=T-2h$.\n",
    "\n",
    "We do this regression step at each time period before $t=T-h$, until $t=0$.\n",
    "\n",
    "Now that we have exercise and holding values for each time point, we can iterate forward through each simulation and find the first instance the exercise value exceeds the holding value, which then equals our discounted payoff when discounted back to $t=0$."
   ]
  },
  {
   "cell_type": "markdown",
   "metadata": {},
   "source": [
    "### Code"
   ]
  },
  {
   "cell_type": "code",
   "execution_count": 7,
   "metadata": {},
   "outputs": [],
   "source": [
    "def AmerOptPrice(stockPaths,n,np,sigma,r,K,T):\n",
    "    h = T/n\n",
    "    paths = numpy.array(stockPaths).T[::-1]\n",
    "    exerValMatrix = [(K-paths[0]).clip(min=0)]\n",
    "    vtValMatrix = [(K-paths[0]).clip(min=0)]\n",
    "    for j in range(1,n):\n",
    "        prices = paths[j]\n",
    "        exerVals = (K-prices).clip(min=0)\n",
    "        priceSim = numpy.array([price*numpy.exp(sigma*numpy.sqrt(h)*numpy.random.normal(0,1,100) + ((r-((sigma**2)/2))*h)) for price in prices])\n",
    "        if j == 1:\n",
    "            vtVals = [numpy.exp(-r*h)*numpy.mean(val) for val in (K-priceSim).clip(min=0)]\n",
    "        else:\n",
    "            vtVals = ((prices*b1) + b0).clip(min=0)\n",
    "        exerValMatrix.insert(0,exerVals)\n",
    "        vtValMatrix.insert(0,vtVals)\n",
    "        pvCov = numpy.cov(prices,vtVals,ddof=1)[0][1]\n",
    "        pVar = numpy.var(prices,ddof=1)\n",
    "        b1 = pvCov/pVar\n",
    "        b0 = numpy.mean(vtVals) - (b1*numpy.mean(prices))\n",
    "    vtValMatrix = numpy.array(vtValMatrix).T\n",
    "    exerValMatrix = numpy.array(exerValMatrix).T\n",
    "    discPayoffs = []\n",
    "    for k in range(np):\n",
    "        for j in range(n):\n",
    "            exerVal = exerValMatrix[k][j]\n",
    "            vtVal = vtValMatrix[k][j]\n",
    "            if exerVal > vtVal:\n",
    "                discPayoff = exerVal*numpy.exp(-r*h*j)\n",
    "                break\n",
    "            elif j == n-1:\n",
    "                discPayoff = vtVal*numpy.exp(-r*h*j)\n",
    "        discPayoffs.append(discPayoff)\n",
    "    fairPrice = numpy.mean(discPayoffs)\n",
    "    priceVar = numpy.var(discPayoffs,ddof=1)\n",
    "    return discPayoffs,fairPrice,priceVar"
   ]
  },
  {
   "cell_type": "markdown",
   "metadata": {},
   "source": [
    "## Control Variates Method"
   ]
  },
  {
   "cell_type": "markdown",
   "metadata": {},
   "source": [
    "To implement the control variates method with our American and European put option prices, we'll create a function contVarMethod that takes an array of $X$ values, an array of $Y$ values, and the estimated value of $\\mu_X$ to generate a better estimate of $\\mu_Y$."
   ]
  },
  {
   "cell_type": "markdown",
   "metadata": {},
   "source": [
    "### Setup"
   ]
  },
  {
   "cell_type": "markdown",
   "metadata": {},
   "source": [
    "Given a random variable $Y$, suppose we want to estimate $\\mu_Y$.\n",
    "\n",
    "$X$ is a random variable and we have already estimated $\\mu_X$.\n",
    "\n",
    "Suppose $X$ and $Y$ are somehow connected.\n",
    "\n",
    "We want to use our knowledge of $X$ and $\\mu_X$ to improve our estimation of $\\mu_Y$.\n",
    "\n",
    "We'll let $\\bar{Y}$ and $\\bar{X}$ by estimations of $\\mu_Y$ and $\\mu_X$, respectively. We'll define $\\hat{Y} = \\bar{Y} + \\beta\\left(\\mu_X - \\bar{X}\\right)$ and let $\\beta = \\frac{\\sigma_{XY}^2}{\\sigma_X^2}$.\n",
    "\n",
    "Note that $\\sigma_X^2 = \\frac{1}{n-1} \\sum_{i=1}^{n} \\left(X_i - \\bar{X}\\right)^2$ and $\\sigma_{XY}^2 = \\frac{1}{n-1} \\sum_{i=1}^{n} \\left(X_i - \\bar{X}\\right)\\left(Y_i - \\bar{Y}\\right)$.\n",
    "\n",
    "Applying this to our analysis, we get $\\bar{X}$ and $X_i$ from our European put option pricing, $\\bar{Y}$ and $Y_i$ from our American put option pricing, and $\\mu_X$ from the Black-Scholes formula."
   ]
  },
  {
   "cell_type": "markdown",
   "metadata": {},
   "source": [
    "### Code"
   ]
  },
  {
   "cell_type": "code",
   "execution_count": 8,
   "metadata": {},
   "outputs": [],
   "source": [
    "def contVarMethod(xArray,yArray,xMu):\n",
    "    xBar = numpy.mean(xArray)\n",
    "    yBar = numpy.mean(yArray)\n",
    "    xVar = numpy.var(xArray,ddof=1)\n",
    "    xyCov = numpy.cov(xArray,yArray,ddof=1)[0][1]\n",
    "    beta = xyCov/xVar\n",
    "    yHat = yBar + (beta*(xMu-xBar))\n",
    "    return yHat"
   ]
  },
  {
   "cell_type": "markdown",
   "metadata": {},
   "source": [
    "## Analysis and Results"
   ]
  },
  {
   "cell_type": "markdown",
   "metadata": {},
   "source": [
    "For our analysis and results, we'll choose TSLA as our underlying stock and a corresponding put option with a strike price of $\\$10$ more than the current stock price, expiring in 1 year. We'll use the 1 year libor yield as the interest rate, and apply the contVarMethod function to the American put option price we previously computed."
   ]
  },
  {
   "cell_type": "markdown",
   "metadata": {},
   "source": [
    "### Setup"
   ]
  },
  {
   "cell_type": "code",
   "execution_count": 50,
   "metadata": {},
   "outputs": [],
   "source": [
    "ticker = 'TSLA'                                   # sets stock ticker\n",
    "priceData = getPrices(ticker)                     # gets price data for last year\n",
    "p = 4                                             # set to 4 to create 4*252=1008 simulations\n",
    "n = 252                                           # sets number of observations to 252 per simulation\n",
    "np = n*p                                          # creates number of simulations\n",
    "T = 1                                             # number of years\n",
    "S0 = priceData[-1]                                # initial price\n",
    "r = 0.0262                                        # 1 year libor yield\n",
    "K = S0 + 10                                       # strike price\n",
    "\n",
    "numpy.random.seed(1)\n",
    "\n",
    "sigma = StockVol(priceData)                       # finds stock volatility from priceData\n",
    "stockPaths = StockPath(n,sigma,S0,T,np,r)         # generates stock path simulations"
   ]
  },
  {
   "cell_type": "markdown",
   "metadata": {},
   "source": [
    "### European Option Price"
   ]
  },
  {
   "cell_type": "code",
   "execution_count": 51,
   "metadata": {},
   "outputs": [
    {
     "name": "stdout",
     "output_type": "stream",
     "text": [
      "Initial stock price: $223.64000\n",
      "233.64-strike European put for TSLA: $5.48942\n",
      "Variance of put price: $36.864345\n"
     ]
    }
   ],
   "source": [
    "eurPutData = EurOptPrice(stockPaths,n,r,K,T)\n",
    "fairPrice = eurPutData[1]\n",
    "priceVariance = eurPutData[2]\n",
    "print('Initial stock price: ' + '${:,.5f}'.format(S0))\n",
    "print(str(K) + '-strike European put for ' + ticker + ': ' + '${:,.5f}'.format(fairPrice))\n",
    "print('Variance of put price: ' + '${:,.6f}'.format(priceVariance))"
   ]
  },
  {
   "cell_type": "markdown",
   "metadata": {},
   "source": [
    "### American Option Price"
   ]
  },
  {
   "cell_type": "code",
   "execution_count": 52,
   "metadata": {},
   "outputs": [
    {
     "name": "stdout",
     "output_type": "stream",
     "text": [
      "Initial stock price of TSLA: $223.64000\n",
      "233.64-strike American put for TSLA: $9.99772\n",
      "Variance of put price: $0.262115\n"
     ]
    }
   ],
   "source": [
    "amerPutData = AmerOptPrice(stockPaths,n,np,sigma,r,K,T)\n",
    "fairPrice = amerPutData[1]\n",
    "priceVariance = amerPutData[2]\n",
    "\n",
    "print('Initial stock price of ' + ticker + ': ' + '${:,.5f}'.format(S0))\n",
    "print(str(K) + '-strike American put for ' + ticker + ': ' + '${:,.5f}'.format(fairPrice))\n",
    "print('Variance of put price: ' + '${:,.6f}'.format(priceVariance))"
   ]
  },
  {
   "cell_type": "markdown",
   "metadata": {},
   "source": [
    "### Control Variates Method"
   ]
  },
  {
   "cell_type": "code",
   "execution_count": 53,
   "metadata": {},
   "outputs": [
    {
     "name": "stdout",
     "output_type": "stream",
     "text": [
      "Initial stock price of TSLA: $223.64000\n",
      "Fair price of 233.64-strike American put for TSLA: $9.99971\n"
     ]
    }
   ],
   "source": [
    "d1 = (numpy.log(S0/K) + ((r-((sigma**2)/2))*T))/(sigma*numpy.sqrt(T))\n",
    "d2 = d1 - (sigma*numpy.sqrt(T))\n",
    "xMu = (K*numpy.exp(-r*T)*norm.cdf(-d2)) - (S0*norm.cdf(-d1))\n",
    "x = eurPutData[0]\n",
    "y = amerPutData[0]\n",
    "fairPrice = contVarMethod(x,y,xMu)\n",
    "print('Initial stock price of ' + ticker + ': ' + '${:,.5f}'.format(S0))\n",
    "print('Fair price of ' + str(K) + '-strike American put for ' + ticker + ': ' + '${:,.5f}'.format(fairPrice))"
   ]
  },
  {
   "cell_type": "code",
   "execution_count": null,
   "metadata": {},
   "outputs": [],
   "source": []
  }
 ],
 "metadata": {
  "kernelspec": {
   "display_name": "Python 3",
   "language": "python",
   "name": "python3"
  },
  "language_info": {
   "codemirror_mode": {
    "name": "ipython",
    "version": 3
   },
   "file_extension": ".py",
   "mimetype": "text/x-python",
   "name": "python",
   "nbconvert_exporter": "python",
   "pygments_lexer": "ipython3",
   "version": "3.7.3"
  }
 },
 "nbformat": 4,
 "nbformat_minor": 2
}
