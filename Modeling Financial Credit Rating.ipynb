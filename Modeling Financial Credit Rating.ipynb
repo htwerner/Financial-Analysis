{
 "cells": [
  {
   "cell_type": "markdown",
   "metadata": {},
   "source": [
    "# Modeling Financial Credit Rating"
   ]
  },
  {
   "cell_type": "markdown",
   "metadata": {},
   "source": [
    "In Financial Mathematics, Markov chains can be used to model the default risk of a company or country.\n",
    "\n",
    "Rating agencies (like <i>Standard & Poor’s</i>, <i>Moody’s</i>, <i>Fitch</i>) rate the financial stability of a company and classify them according to different classes. A possible classification may range from 'AAA' for debitors with a very good credit rating to 'CCC' for debitors which are very likely to delay in paying a debt; and 'D' for those debitors that default.\n",
    "\n",
    "The yearly credit rating of a company can be modeled as a Markov chain $(X_n)_{n=0,1,2,\\ldots}$ with state space\n",
    "\n",
    "$$ \\mathcal{S} = \\{ AAA,\\, AA,\\, A,\\, BBB,\\, BB,\\, B,\\, CCC,\\, D \\} $$\n",
    "\n",
    "where $X_n$ represents the credit rating class of a company at the $n$-th year. The transition probabilities are given by...\n",
    "\n",
    "\\begin{equation*}\n",
    "\\begin{array}{ccccccccc}\n",
    " & AAA & AA & A & BBB & BB & B & CCC & D \\\\\n",
    " AAA & 92.07 & 7.09 & 0.63 & 0.15 & 0.06 & 0.00 & 0.00 & 0.00 \\\\ \n",
    " AA & 0.62 & 90.84 & 7.76 & 0.59 & 0.06 & 0.10 & 0.02 & 0.01 \\\\\n",
    " A & 0.05 & 2.09 & 91.38 & 5.79 & 0.44 & 0.16 & 0.04 & 0.05 \\\\\n",
    " BBB & 0.03 & 0.21 & 4.10 & 89.37 & 4.82 & 0.86 & 0.24 & 0.37 \\\\\n",
    " BB & 0.03 & 0.08 & 0.40 & 5.54 & 83.24 & 8.15 & 1.11 & 1.45 \\\\\n",
    " B & 0.00 & 0.08 & 0.27 & 0.34 & 5.39 & 82.41 & 4.92 & 6.59 \\\\\n",
    " CCC & 0.10 & 0.00 & 0.29 & 0.58 & 1.55 & 10.54 & 52.80 & 34.14 \\\\\n",
    " D & 0.00 & 0.00 & 0.00 & 0.00 & 0.00 & 0.00 & 0.00 & 100.0\n",
    "\\end{array} \n",
    "\\end{equation*}\n",
    "\n",
    "<i>Remark</i>: For our implementations below, we will label the different states from $0$ to $7$, where $0$ represents state $AAA$, $1$ represents state $AA$, and so on."
   ]
  },
  {
   "cell_type": "code",
   "execution_count": 1,
   "metadata": {},
   "outputs": [],
   "source": [
    "import numpy as np\n",
    "import math\n",
    "import matplotlib.pyplot as plt\n",
    "import pandas as pd\n",
    "import csv\n",
    "%matplotlib inline"
   ]
  },
  {
   "cell_type": "markdown",
   "metadata": {},
   "source": [
    "## Data\n",
    "\n",
    "We'll start with loading a matrix from an accompanying external .csv-file."
   ]
  },
  {
   "cell_type": "code",
   "execution_count": 2,
   "metadata": {},
   "outputs": [],
   "source": [
    "csvFile = '/Users/hunt_wern/OneDrive/GitHub/Finance/Data/CreditRatingTransMatrixP.csv'\n",
    "P = []\n",
    "with open(csvFile,'r') as file:\n",
    "    reader = csv.reader(file)\n",
    "    for row in reader:\n",
    "        P.append([float(prob) for prob in row])"
   ]
  },
  {
   "cell_type": "markdown",
   "metadata": {},
   "source": [
    "P is a list representing the transition probability matrix. In particular, $P[i][j]$ gives us the probabilities from state $i$ to $j$, for $i,j\\in\\{0,1,2,\\dots, 7\\}$.\n",
    "\n",
    "Let's check to make sure we've uploaded P correctly..."
   ]
  },
  {
   "cell_type": "code",
   "execution_count": 3,
   "metadata": {},
   "outputs": [
    {
     "data": {
      "text/plain": [
       "[[0.9207, 0.0709, 0.0063, 0.0015, 0.0006, 0.0, 0.0, 0.0],\n",
       " [0.0062, 0.9084, 0.0776, 0.0059, 0.0006, 0.001, 0.0002, 0.0001],\n",
       " [0.0005, 0.0209, 0.9138, 0.0579, 0.0044, 0.0016, 0.0004, 0.0005],\n",
       " [0.0003, 0.0021, 0.041, 0.8937, 0.0482, 0.0086, 0.0024, 0.0037],\n",
       " [0.0003, 0.0008, 0.004, 0.0554, 0.8324, 0.0815, 0.0111, 0.0145],\n",
       " [0.0, 0.0008, 0.0027, 0.0034, 0.0539, 0.8241, 0.0492, 0.0659],\n",
       " [0.001, 0.0, 0.0029, 0.0058, 0.0155, 0.1054, 0.528, 0.3414],\n",
       " [0.0, 0.0, 0.0, 0.0, 0.0, 0.0, 0.0, 1.0]]"
      ]
     },
     "execution_count": 3,
     "metadata": {},
     "output_type": "execute_result"
    }
   ],
   "source": [
    "P"
   ]
  },
  {
   "cell_type": "code",
   "execution_count": 11,
   "metadata": {},
   "outputs": [
    {
     "data": {
      "text/plain": [
       "[0.9207, 0.0709, 0.0063, 0.0015, 0.0006, 0.0, 0.0, 0.0]"
      ]
     },
     "execution_count": 11,
     "metadata": {},
     "output_type": "execute_result"
    }
   ],
   "source": [
    "P[0]"
   ]
  },
  {
   "cell_type": "markdown",
   "metadata": {},
   "source": [
    "## Probability of Not Defaulting"
   ]
  },
  {
   "cell_type": "markdown",
   "metadata": {},
   "source": [
    "We'll use matrix operations to provide an example of computing the probability that a company which is rated with 'AAA' today will <u>not</u> default during the next 8 years."
   ]
  },
  {
   "cell_type": "markdown",
   "metadata": {},
   "source": [
    "The probability that a 'AAA' company does not default in the first year is...\n",
    "\n",
    "$$\\mathbb{P}(X_1 \\neq D \\mid X_0 = AAA) = 1 - \\mathbb{P}(X_1 = D \\mid X_0 = AAA) = 1 - P_{18}^1$$\n",
    "\n",
    "for $P_{ij} = \\mathbb{P}(X_1 = j \\mid X_0 = i)$ for the row $i$, column $j$ entry in $P$.\n",
    "\n",
    "Following from this, the probability that the company does not default in the first two years is...\n",
    "\n",
    "$$\\mathbb{P}(X_1 \\neq D \\text{ and } X_2 \\neq D \\mid X_0 = AAA) = 1 - \\mathbb{P}(X_2 = D \\text{ or } X_1 = D \\mid X_0 = AAA) = 1 - (P_{18}^1 + P_{18}^2)$$\n",
    "\n",
    "and so on.\n",
    "\n",
    "Thus, the probability that the probability that the company does not default in the first 8 years is...\n",
    "\n",
    "$$\\mathbb{P}(X_1 \\neq D \\text{ and } X_2 \\neq D \\text{ and } \\dots \\text{ and } X_8 \\neq D \\mid X_0 = AAA) = 1 - (P_{18}^1 + P_{18}^2 + \\dots + P_{18}^8) = 1 - \\sum_{n = 1}^{8}P_{18}^n$$"
   ]
  },
  {
   "cell_type": "code",
   "execution_count": 5,
   "metadata": {},
   "outputs": [
    {
     "name": "stdout",
     "output_type": "stream",
     "text": [
      "Probability that a 'AAA' company defaults will NOT default in the next 8 years = 0.9954584348525004\n"
     ]
    }
   ],
   "source": [
    "probDefault = 0\n",
    "for n in range(1,9):\n",
    "    newP = np.linalg.matrix_power(P, n)\n",
    "    probDefault += newP[0][7]\n",
    "probDefault = 1 - probDefault\n",
    "\n",
    "print(\"Probability that a 'AAA' company defaults will NOT default in the next 8 years = \" + str(probDefault))"
   ]
  },
  {
   "cell_type": "markdown",
   "metadata": {},
   "source": [
    "## Single Markov Chain Simulation"
   ]
  },
  {
   "cell_type": "markdown",
   "metadata": {},
   "source": [
    "We'll now write a function to simulate the Markov chain for different starting values."
   ]
  },
  {
   "cell_type": "code",
   "execution_count": 12,
   "metadata": {},
   "outputs": [],
   "source": [
    "def simulateRating(startRating, numberOfSteps, P):\n",
    "    currRating = startRating\n",
    "    samplePath = [startRating]\n",
    "    for i in range(numberOfSteps):\n",
    "        newRating = np.random.choice(a=range(8),p=P[currRating])\n",
    "        samplePath.append(newRating)\n",
    "        currRating = newRating\n",
    "    return samplePath"
   ]
  },
  {
   "cell_type": "code",
   "execution_count": 13,
   "metadata": {},
   "outputs": [
    {
     "data": {
      "text/plain": [
       "[0, 0, 0, 0, 0, 0, 0, 0, 0, 0, 0]"
      ]
     },
     "execution_count": 13,
     "metadata": {},
     "output_type": "execute_result"
    }
   ],
   "source": [
    "### Testing our code:\n",
    "simulateRating(startRating=0, numberOfSteps=10, P=P)"
   ]
  },
  {
   "cell_type": "markdown",
   "metadata": {},
   "source": [
    "## Full Markov Chain Simulation\n",
    "\n",
    "Now we can write a code to plot <tt>numPaths</tt> simulated paths of length <tt>lengthPath</tt> with starting value <tt>startRating</tt>."
   ]
  },
  {
   "cell_type": "code",
   "execution_count": 15,
   "metadata": {},
   "outputs": [],
   "source": [
    "startRating = 0            \n",
    "lengthPath = 50\n",
    "numPaths = 10\n",
    "\n",
    "sims = []\n",
    "for i in range(numPaths):\n",
    "    newSim = simulateRating(startRating,lengthPath,P)\n",
    "    sims.append(newSim)"
   ]
  },
  {
   "cell_type": "code",
   "execution_count": 16,
   "metadata": {},
   "outputs": [
    {
     "data": {
      "text/plain": [
       "([<matplotlib.axis.YTick at 0x115b03588>,\n",
       "  <matplotlib.axis.YTick at 0x115b04e80>,\n",
       "  <matplotlib.axis.YTick at 0x115a62e80>,\n",
       "  <matplotlib.axis.YTick at 0x115b2f710>,\n",
       "  <matplotlib.axis.YTick at 0x115b2fba8>,\n",
       "  <matplotlib.axis.YTick at 0x115b37128>,\n",
       "  <matplotlib.axis.YTick at 0x115b37588>,\n",
       "  <matplotlib.axis.YTick at 0x115b37a58>,\n",
       "  <matplotlib.axis.YTick at 0x115b37f28>,\n",
       "  <matplotlib.axis.YTick at 0x115b37a20>],\n",
       " <a list of 10 Text yticklabel objects>)"
      ]
     },
     "execution_count": 16,
     "metadata": {},
     "output_type": "execute_result"
    },
    {
     "data": {
      "image/png": "[encoded data removed]",
      "text/plain": [
       "<Figure size 720x360 with 1 Axes>"
      ]
     },
     "metadata": {
      "needs_background": "light"
     },
     "output_type": "display_data"
    }
   ],
   "source": [
    "plt.figure(figsize=(10,5))\n",
    "plt.title('Simulated rating paths')\n",
    "plt.ylabel('Credit Ratings')\n",
    "plt.xlabel('Year')\n",
    "\n",
    "for sim in sims:\n",
    "    plt.plot(range(len(sim)),sim)\n",
    "\n",
    "plt.ylim(-1,8)\n",
    "ratings = ['','AAA','AA','A','BBB','BB','B','CCC/C','D','']\n",
    "plt.yticks(range(-1,9),ratings)"
   ]
  },
  {
   "cell_type": "markdown",
   "metadata": {},
   "source": [
    "## Long Run Behavior"
   ]
  },
  {
   "cell_type": "markdown",
   "metadata": {
    "collapsed": true
   },
   "source": [
    "To study the long-run behavior of the Markov chain, we'll study the outcomes of 100 different 1000 year paths for each starting credit rating, taking the average outcome of each. To study this average, we'll assign each credit rating a different integer, i.e. 'AAA' = 0, 'AA' = 1, 'A' = 2, ... , 'D' = 7.\n",
    "\n",
    "The goal of this will be to discover a limiting distribution of the Markov chain that is independent of the starting ratings. That is, a limiting distribution $\\lambda$ such that $\\lim_{n\\to\\infty}P_{ij}^n = \\lambda_j$ for all $j$ and $n$ being the number of trials."
   ]
  },
  {
   "cell_type": "code",
   "execution_count": 17,
   "metadata": {},
   "outputs": [
    {
     "name": "stdout",
     "output_type": "stream",
     "text": [
      "Starting ratings:\n",
      "['AAA', 'AA', 'A', 'BBB', 'BB', 'B', 'CCC', 'D']\n",
      "\n",
      "Average outcome:\n",
      "[7.0, 7.0, 7.0, 7.0, 7.0, 7.0, 7.0, 7.0]\n",
      "['D', 'D', 'D', 'D', 'D', 'D', 'D', 'D']\n"
     ]
    }
   ],
   "source": [
    "ratings = ['AAA','AA','A','BBB','BB','B','CCC','D']\n",
    "simOutcomeAvgInts = []\n",
    "simOutcomeAvgRates = []\n",
    "for startRating in range(8):\n",
    "    simOutcomes = []\n",
    "    for k in range(100):\n",
    "        newSim = simulateRating(startRating,1000,P)\n",
    "        simOutcomes.append(newSim[-1])\n",
    "    avgOutcome = sum(simOutcomes)/100\n",
    "    simOutcomeAvgInts.append(avgOutcome)\n",
    "    simOutcomeAvgRates.append(ratings[int(avgOutcome)])\n",
    "\n",
    "print('Starting ratings:')\n",
    "print(ratings)\n",
    "print('')\n",
    "print('Average outcome:')\n",
    "print(simOutcomeAvgInts)\n",
    "print(simOutcomeAvgRates)"
   ]
  },
  {
   "cell_type": "markdown",
   "metadata": {},
   "source": [
    "As seen after running the above simulations, each simulation, regardless of starting rating, has an average outcome of 7.0, or default. That is, the long-run behavior of the Markov chain leads a company to default and is independent of the starting rating given to the company.\n",
    "\n",
    "From this observation, we can conclude that for all $j$ in $P$, the limiting distribution is: $\\lambda_j = (0,0,0,0,0,0,1)$."
   ]
  },
  {
   "cell_type": "code",
   "execution_count": null,
   "metadata": {},
   "outputs": [],
   "source": []
  }
 ],
 "metadata": {
  "anaconda-cloud": {},
  "kernelspec": {
   "display_name": "Python 3",
   "language": "python",
   "name": "python3"
  },
  "language_info": {
   "codemirror_mode": {
    "name": "ipython",
    "version": 3
   },
   "file_extension": ".py",
   "mimetype": "text/x-python",
   "name": "python",
   "nbconvert_exporter": "python",
   "pygments_lexer": "ipython3",
   "version": "3.7.3"
  }
 },
 "nbformat": 4,
 "nbformat_minor": 2
}
